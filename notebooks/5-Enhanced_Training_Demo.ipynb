{
 "cells": [
  {
   "cell_type": "markdown",
   "id": "b0d585ab",
   "metadata": {},
   "source": [
    "# Enhanced Euro 2024 Prediction Model Training\n",
    "\n",
    "This notebook demonstrates the enhanced training pipeline for Euro 2024 match predictions.\n",
    "\n",
    "## Features\n",
    "- Advanced feature engineering with attack/defense strength metrics\n",
    "- Multiple algorithm comparison with hyperparameter tuning\n",
    "- Comprehensive model evaluation\n",
    "- Feature importance analysis\n",
    "- Model versioning and persistence"
   ]
  },
  {
   "cell_type": "code",
   "execution_count": null,
   "id": "94f75cff",
   "metadata": {},
   "outputs": [],
   "source": [
    "# Import the enhanced training system\n",
    "import sys\n",
    "sys.path.append('../scripts')\n",
    "\n",
    "from train_enhanced_model import EuroFootballPredictor\n",
    "from predict_euro2024 import Euro2024Predictor\n",
    "\n",
    "import pandas as pd\n",
    "import numpy as np\n",
    "import matplotlib.pyplot as plt\n",
    "import seaborn as sns\n",
    "\n",
    "plt.style.use('seaborn-v0_8')\n",
    "sns.set_palette(\"husl\")"
   ]
  },
  {
   "cell_type": "markdown",
   "id": "79ef6b66",
   "metadata": {},
   "source": [
    "## 1. Train Enhanced Models\n",
    "\n",
    "Run the complete training pipeline with enhanced features and model selection."
   ]
  },
  {
   "cell_type": "code",
   "execution_count": null,
   "id": "c43f42c4",
   "metadata": {},
   "outputs": [],
   "source": [
    "# Initialize the predictor\n",
    "trainer = EuroFootballPredictor(data_path='../data/')\n",
    "\n",
    "# Run complete training pipeline\n",
    "training_results = trainer.run_complete_training()"
   ]
  },
  {
   "cell_type": "markdown",
   "id": "3548f252",
   "metadata": {},
   "source": [
    "## 2. Analyze Training Results"
   ]
  },
  {
   "cell_type": "code",
   "execution_count": null,
   "id": "494862c6",
   "metadata": {},
   "outputs": [],
   "source": [
    "# Display training results\n",
    "print(\"Training Results Summary:\")\n",
    "print(f\"Result Model Accuracy: {training_results['result_accuracy']:.3f}\")\n",
    "print(f\"Goals Model R²: {training_results['goals_r2']:.3f}\")\n",
    "print(f\"Goals Model RMSE: {training_results['goals_rmse']:.3f}\")"
   ]
  },
  {
   "cell_type": "markdown",
   "id": "b23743ad",
   "metadata": {},
   "source": [
    "## 3. Make Euro 2024 Predictions\n",
    "\n",
    "Use the trained models to predict Euro 2024 group stage matches."
   ]
  },
  {
   "cell_type": "code",
   "execution_count": null,
   "id": "429486ea",
   "metadata": {},
   "outputs": [],
   "source": [
    "# Initialize predictor with enhanced models\n",
    "predictor = Euro2024Predictor(model_version='v2_enhanced')\n",
    "\n",
    "# Run predictions\n",
    "predictions = predictor.run_prediction(save_results=True)"
   ]
  },
  {
   "cell_type": "markdown",
   "id": "0e49d6f7",
   "metadata": {},
   "source": [
    "## 4. Analyze Predictions"
   ]
  },
  {
   "cell_type": "code",
   "execution_count": null,
   "id": "5428ac83",
   "metadata": {},
   "outputs": [],
   "source": [
    "# Load the predictions for analysis\n",
    "predictions_df = pd.read_csv('../data/euro2024_predictions_v2_enhanced.csv')\n",
    "\n",
    "# Basic statistics\n",
    "print(\"Prediction Statistics:\")\n",
    "print(f\"Total matches: {len(predictions_df)}\")\n",
    "print(f\"Home wins predicted: {len(predictions_df[predictions_df['predicted_result'] == '1'])}\")\n",
    "print(f\"Draws predicted: {len(predictions_df[predictions_df['predicted_result'] == 'X'])}\")\n",
    "print(f\"Away wins predicted: {len(predictions_df[predictions_df['predicted_result'] == '2'])}\")\n",
    "print(f\"Average goals per match: {predictions_df['predicted_goals'].mean():.2f}\")\n",
    "print(f\"Matches with >2.5 goals: {len(predictions_df[predictions_df['predicted_goals'] > 2.5])}\")"
   ]
  },
  {
   "cell_type": "code",
   "execution_count": null,
   "id": "372b8735",
   "metadata": {},
   "outputs": [],
   "source": [
    "# Visualize goal predictions\n",
    "fig, (ax1, ax2) = plt.subplots(1, 2, figsize=(15, 6))\n",
    "\n",
    "# Goals distribution\n",
    "ax1.hist(predictions_df['predicted_goals'], bins=15, alpha=0.7, edgecolor='black')\n",
    "ax1.axvline(predictions_df['predicted_goals'].mean(), color='red', linestyle='--', \n",
    "           label=f'Mean: {predictions_df[\"predicted_goals\"].mean():.2f}')\n",
    "ax1.axvline(2.5, color='orange', linestyle='--', label='Over/Under 2.5')\n",
    "ax1.set_xlabel('Predicted Goals')\n",
    "ax1.set_ylabel('Number of Matches')\n",
    "ax1.set_title('Distribution of Predicted Goals')\n",
    "ax1.legend()\n",
    "ax1.grid(True, alpha=0.3)\n",
    "\n",
    "# Confidence distribution\n",
    "ax2.hist(predictions_df['confidence'], bins=15, alpha=0.7, edgecolor='black')\n",
    "ax2.axvline(predictions_df['confidence'].mean(), color='red', linestyle='--', \n",
    "           label=f'Mean: {predictions_df[\"confidence\"].mean():.2f}')\n",
    "ax2.axvline(0.6, color='orange', linestyle='--', label='High Confidence (0.6)')\n",
    "ax2.set_xlabel('Prediction Confidence')\n",
    "ax2.set_ylabel('Number of Matches')\n",
    "ax2.set_title('Distribution of Prediction Confidence')\n",
    "ax2.legend()\n",
    "ax2.grid(True, alpha=0.3)\n",
    "\n",
    "plt.tight_layout()\n",
    "plt.show()"
   ]
  },
  {
   "cell_type": "code",
   "execution_count": null,
   "id": "c919949f",
   "metadata": {},
   "outputs": [],
   "source": [
    "# Show high confidence predictions\n",
    "high_conf = predictions_df[predictions_df['confidence'] >= 0.6].copy()\n",
    "high_conf = high_conf.sort_values('confidence', ascending=False)\n",
    "\n",
    "print(f\"\\n🎯 HIGH CONFIDENCE PREDICTIONS ({len(high_conf)} matches):\")\n",
    "print(\"=\" * 70)\n",
    "\n",
    "for _, match in high_conf.iterrows():\n",
    "    result_map = {'1': 'Home Win', '2': 'Away Win', 'X': 'Draw'}\n",
    "    result_text = result_map[match['predicted_result']]\n",
    "    \n",
    "    print(f\"{match['home_team']} vs {match['away_team']}\")\n",
    "    print(f\"  📅 {match['date']} in {match['city']}\")\n",
    "    print(f\"  🎯 Prediction: {result_text} (Confidence: {match['confidence']:.1%})\")\n",
    "    print(f\"  ⚽ Expected Goals: {match['predicted_goals']:.1f}\")\n",
    "    print()"
   ]
  },
  {
   "cell_type": "markdown",
   "id": "5f722936",
   "metadata": {},
   "source": [
    "## 5. Compare with Original Models\n",
    "\n",
    "Let's compare predictions from the enhanced model vs the original model."
   ]
  },
  {
   "cell_type": "code",
   "execution_count": null,
   "id": "f3e7ba97",
   "metadata": {},
   "outputs": [],
   "source": [
    "# Make predictions with original model\n",
    "original_predictor = Euro2024Predictor(model_version='original')\n",
    "original_predictions = original_predictor.run_prediction(save_results=False)\n",
    "\n",
    "# Compare key metrics\n",
    "comparison = pd.DataFrame({\n",
    "    'Model': ['Original', 'Enhanced'],\n",
    "    'Avg_Goals': [original_predictions['predicted_goals'].mean(), \n",
    "                  predictions_df['predicted_goals'].mean()],\n",
    "    'High_Confidence_Predictions': [\n",
    "        len(original_predictions[original_predictions['confidence'] >= 0.6]),\n",
    "        len(predictions_df[predictions_df['confidence'] >= 0.6])\n",
    "    ],\n",
    "    'Over_2.5_Goals': [\n",
    "        len(original_predictions[original_predictions['predicted_goals'] > 2.5]),\n",
    "        len(predictions_df[predictions_df['predicted_goals'] > 2.5])\n",
    "    ]\n",
    "})\n",
    "\n",
    "print(\"Model Comparison:\")\n",
    "print(comparison.to_string(index=False))"
   ]
  },
  {
   "cell_type": "markdown",
   "id": "e7cbfe4a",
   "metadata": {},
   "source": [
    "## 6. Betting Strategy Analysis\n",
    "\n",
    "Identify the best betting opportunities based on model confidence."
   ]
  },
  {
   "cell_type": "code",
   "execution_count": null,
   "id": "9da66013",
   "metadata": {},
   "outputs": [],
   "source": [
    "# Define betting strategies\n",
    "def analyze_betting_opportunities(df, min_confidence=0.6):\n",
    "    \"\"\"\n",
    "    Analyze betting opportunities based on prediction confidence\n",
    "    \"\"\"\n",
    "    opportunities = []\n",
    "    \n",
    "    for _, match in df.iterrows():\n",
    "        if match['confidence'] >= min_confidence:\n",
    "            bet_type = \"\"\n",
    "            bet_confidence = match['confidence']\n",
    "            \n",
    "            # Result betting\n",
    "            if match['predicted_result'] == '1':\n",
    "                bet_type = f\"{match['home_team']} to win\"\n",
    "            elif match['predicted_result'] == '2':\n",
    "                bet_type = f\"{match['away_team']} to win\"\n",
    "            else:\n",
    "                bet_type = \"Draw\"\n",
    "            \n",
    "            opportunities.append({\n",
    "                'match': f\"{match['home_team']} vs {match['away_team']}\",\n",
    "                'date': match['date'],\n",
    "                'bet_type': bet_type,\n",
    "                'confidence': bet_confidence,\n",
    "                'predicted_goals': match['predicted_goals']\n",
    "            })\n",
    "            \n",
    "            # Goals betting\n",
    "            if match['predicted_goals'] > 2.7:  # High confidence over 2.5\n",
    "                opportunities.append({\n",
    "                    'match': f\"{match['home_team']} vs {match['away_team']}\",\n",
    "                    'date': match['date'],\n",
    "                    'bet_type': 'Over 2.5 Goals',\n",
    "                    'confidence': bet_confidence,\n",
    "                    'predicted_goals': match['predicted_goals']\n",
    "                })\n",
    "            elif match['predicted_goals'] < 2.2:  # High confidence under 2.5\n",
    "                opportunities.append({\n",
    "                    'match': f\"{match['home_team']} vs {match['away_team']}\",\n",
    "                    'date': match['date'],\n",
    "                    'bet_type': 'Under 2.5 Goals',\n",
    "                    'confidence': bet_confidence,\n",
    "                    'predicted_goals': match['predicted_goals']\n",
    "                })\n",
    "    \n",
    "    return pd.DataFrame(opportunities)\n",
    "\n",
    "# Analyze betting opportunities\n",
    "betting_opps = analyze_betting_opportunities(predictions_df)\n",
    "betting_opps = betting_opps.sort_values('confidence', ascending=False)\n",
    "\n",
    "print(\"🎰 BETTING OPPORTUNITIES (Confidence ≥ 60%):\")\n",
    "print(\"=\" * 80)\n",
    "print(betting_opps.to_string(index=False))"
   ]
  },
  {
   "cell_type": "markdown",
   "id": "d6bc6517",
   "metadata": {},
   "source": [
    "## Summary\n",
    "\n",
    "This enhanced training system provides:\n",
    "\n",
    "1. **Better Features**: Attack/defense strength ratios and differentials\n",
    "2. **Model Selection**: Automatic selection of best-performing algorithms\n",
    "3. **Hyperparameter Tuning**: Grid search for optimal parameters\n",
    "4. **Comprehensive Evaluation**: Multiple metrics and visualizations\n",
    "5. **Betting Analysis**: Confidence-based opportunity identification\n",
    "\n",
    "The models are saved with versioning for easy comparison and deployment."
   ]
  }
 ],
 "metadata": {
  "language_info": {
   "name": "python"
  }
 },
 "nbformat": 4,
 "nbformat_minor": 5
}
